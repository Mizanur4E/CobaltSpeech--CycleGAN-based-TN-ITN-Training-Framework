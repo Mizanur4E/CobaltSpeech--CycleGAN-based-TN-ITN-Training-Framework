{
  "nbformat": 4,
  "nbformat_minor": 0,
  "metadata": {
    "colab": {
      "name": "Demo CoW 21.3- Statistical Formatter",
      "provenance": [],
      "collapsed_sections": [],
      "authorship_tag": "ABX9TyP2PY/QmdZYPbJVB9KL2ckk",
      "include_colab_link": true
    },
    "kernelspec": {
      "name": "python3",
      "display_name": "Python 3"
    },
    "language_info": {
      "name": "python"
    }
  },
  "cells": [
    {
      "cell_type": "markdown",
      "metadata": {
        "id": "view-in-github",
        "colab_type": "text"
      },
      "source": [
        "<a href=\"https://colab.research.google.com/github/Mizanur4E/Text-normalizer-formatter-CobaltSpeech/blob/main/Demo_CoW_21_3_Statistical_Formatter.ipynb\" target=\"_parent\"><img src=\"https://colab.research.google.com/assets/colab-badge.svg\" alt=\"Open In Colab\"/></a>"
      ]
    },
    {
      "cell_type": "markdown",
      "metadata": {
        "id": "5SRu-OwIRtBC"
      },
      "source": [
        "Attach Drive "
      ]
    },
    {
      "cell_type": "code",
      "metadata": {
        "colab": {
          "base_uri": "https://localhost:8080/"
        },
        "id": "G2VZYzAWRSci",
        "outputId": "d76d0f9b-6a06-4d27-b29d-280c527df0a3"
      },
      "source": [
        "from google.colab import drive\n",
        "drive.mount('/content/drive')"
      ],
      "execution_count": null,
      "outputs": [
        {
          "output_type": "stream",
          "name": "stdout",
          "text": [
            "Mounted at /content/drive\n"
          ]
        }
      ]
    },
    {
      "cell_type": "markdown",
      "metadata": {
        "id": "5ABhKUtYRzDK"
      },
      "source": [
        "### Load IOB tagger model and Tokenizers"
      ]
    },
    {
      "cell_type": "markdown",
      "metadata": {
        "id": "BLpkegRvS5xn"
      },
      "source": [
        "Imporiting word2idx and tag2idx"
      ]
    },
    {
      "cell_type": "code",
      "metadata": {
        "id": "VD0PnkCeRsQI"
      },
      "source": [
        "import pickle\n",
        "x = open('/content/drive/My Drive/word2idx.pkl','rb')\n",
        "word2idx= pickle.load(x)\n",
        "x = open('/content/drive/My Drive/tag2idx.pkl','rb')\n",
        "tag2idx= pickle.load(x)\n",
        "idx2tag = {key : value for (value,key) in tag2idx.items()}"
      ],
      "execution_count": null,
      "outputs": []
    },
    {
      "cell_type": "markdown",
      "metadata": {
        "id": "kM73-zctToZv"
      },
      "source": [
        "Before loading weight, Define the model"
      ]
    },
    {
      "cell_type": "code",
      "metadata": {
        "id": "nIYuLARvTl-h"
      },
      "source": [
        "import tensorflow as tf\n",
        "import numpy as np\n",
        "import random as python_random\n",
        "import pandas as pd\n",
        "from tensorflow.keras.preprocessing.sequence import pad_sequences\n",
        "from tensorflow.keras import Model, Input\n",
        "from tensorflow.keras.layers import LSTM, Embedding, Dense\n",
        "from tensorflow.keras.layers import TimeDistributed, SpatialDropout1D, Bidirectional\n",
        "from tensorflow.keras.callbacks import ModelCheckpoint, EarlyStopping\n",
        "from keras.models import model_from_json"
      ],
      "execution_count": null,
      "outputs": []
    },
    {
      "cell_type": "code",
      "metadata": {
        "colab": {
          "base_uri": "https://localhost:8080/"
        },
        "id": "RNUbS9jOSz1G",
        "outputId": "b76bda6f-bf83-4b15-86a1-3ed2c3aa7e7b"
      },
      "source": [
        "max_len =200 #assumed 200. max number of character in a sentences\n",
        "num_words = len(word2idx) #max number of differnt words\n",
        "num_tags = len(tag2idx)\n",
        "\n",
        "input_word = Input(shape=(max_len,))\n",
        "model = Embedding(input_dim=num_words, output_dim=50, input_length=max_len)(input_word)\n",
        "model = SpatialDropout1D(0.1)(model)\n",
        "model = Bidirectional(LSTM(units=100, return_sequences=True, recurrent_dropout=0.1))(model)\n",
        "out = TimeDistributed(Dense(num_tags, activation=\"softmax\"))(model)\n",
        "model = Model(input_word, out)\n",
        "model.summary()"
      ],
      "execution_count": null,
      "outputs": [
        {
          "output_type": "stream",
          "name": "stdout",
          "text": [
            "Model: \"model\"\n",
            "_________________________________________________________________\n",
            "Layer (type)                 Output Shape              Param #   \n",
            "=================================================================\n",
            "input_1 (InputLayer)         [(None, 200)]             0         \n",
            "_________________________________________________________________\n",
            "embedding (Embedding)        (None, 200, 50)           4301350   \n",
            "_________________________________________________________________\n",
            "spatial_dropout1d (SpatialDr (None, 200, 50)           0         \n",
            "_________________________________________________________________\n",
            "bidirectional (Bidirectional (None, 200, 200)          120800    \n",
            "_________________________________________________________________\n",
            "time_distributed (TimeDistri (None, 200, 3)            603       \n",
            "=================================================================\n",
            "Total params: 4,422,753\n",
            "Trainable params: 4,422,753\n",
            "Non-trainable params: 0\n",
            "_________________________________________________________________\n"
          ]
        }
      ]
    },
    {
      "cell_type": "markdown",
      "metadata": {
        "id": "PlhtdAVTS_ZI"
      },
      "source": [
        "Loading the weights into the model"
      ]
    },
    {
      "cell_type": "code",
      "metadata": {
        "id": "ojXFAngzUqTl"
      },
      "source": [
        "best_model_path=\"/content/drive/My Drive/weights.best.hdf5\"\n",
        "model.load_weights(best_model_path)"
      ],
      "execution_count": null,
      "outputs": []
    },
    {
      "cell_type": "markdown",
      "metadata": {
        "id": "-gvCiCHoVGjf"
      },
      "source": [
        "### Load formatter model and setting up for inferencing"
      ]
    },
    {
      "cell_type": "code",
      "metadata": {
        "id": "h258kHDCcnRK"
      },
      "source": [
        "from tensorflow.keras.preprocessing.text import tokenizer_from_json\n",
        "from keras.preprocessing.text import Tokenizer\n",
        "from keras.preprocessing.sequence import pad_sequences\n",
        "import numpy\n",
        "\n",
        "\n",
        "\n",
        "def formatter(X):\n",
        "\n",
        "    \n",
        "  with open('/content/drive/My Drive/tokenizer1V2.txt') as f:\n",
        "    lines1= f.read()\n",
        "\n",
        "  with open('/content/drive/My Drive/tokenizer2V2.txt') as f:\n",
        "    lines2= f.read()\n",
        "    \n",
        "  tokenizer1 = tokenizer_from_json(lines1)\n",
        "  tokenizer2 = tokenizer_from_json(lines2)\n",
        "\n",
        "  \n",
        "  gen = tf.keras.models.load_model('/content/drive/My Drive/modelYX_V2')\n",
        "\n",
        "  speech = ''\n",
        "  for word in X:\n",
        "    speech +=word+' '\n",
        " \n",
        "  speech = [speech]\n",
        "\n",
        "  maxlen2 = 9\n",
        "  \n",
        "  inp= tokenizer2.texts_to_sequences(speech)\n",
        "  inp =pad_sequences(inp, padding='post', maxlen=maxlen2)\n",
        "  out = gen.predict(inp)\n",
        "  out = numpy.argmax(out,axis=-1)\n",
        "  text_out= tokenizer1.sequences_to_texts(out)\n",
        "  \n",
        "\n",
        "  return text_out"
      ],
      "execution_count": null,
      "outputs": []
    },
    {
      "cell_type": "markdown",
      "metadata": {
        "id": "sLMl4h8k8wgN"
      },
      "source": [
        "### Pipeline to connect two models for single line conversion"
      ]
    },
    {
      "cell_type": "code",
      "metadata": {
        "id": "2aKHaI2_9FMB"
      },
      "source": [
        "def line_formatter(s):\n",
        "  \n",
        "  s=s.upper()             #upeercases all the words to match dictionary keys\n",
        "  s= s.split(' ')         #convert to list \n",
        "\n",
        "\n",
        "\n",
        "  seq = []                #converts the word of s into sequence using word2idx\n",
        "  for word in s:\n",
        "    seq.append(word2idx.get(word, 0))\n",
        "\n",
        "  \n",
        "  if seq == [None]:\n",
        "    return []\n",
        "\n",
        "  \n",
        "  seq= [seq]\n",
        "  \n",
        "\n",
        "  padded = pad_sequences(sequences=seq, maxlen=max_len,padding='post', value= num_words-1)\n",
        "  p = model.predict(np.array(padded))\n",
        "  y_pred = np.argmax(p, axis=-1)\n",
        "\n",
        "  y_tag = []\n",
        "\n",
        "\n",
        "  for sen in y_pred:\n",
        "      for i in sen:\n",
        "            y_tag.append(idx2tag.get(i))\n",
        "\n",
        "\n",
        "  #align the commented line and write formatter function that\n",
        "  #predicts and return formatted text of given speech\n",
        "\n",
        "  formatted_line = []\n",
        "  in_formatter = 0\n",
        "  speech = []\n",
        "  L = len(s)+1\n",
        "  for i in range(L):\n",
        "\n",
        "    \n",
        "\n",
        "    if y_tag[i] == 'O':\n",
        "\n",
        "      if in_formatter == 1:\n",
        "        #print(speech)\n",
        "        #predict formatted text and join\n",
        "        formatted = formatter (speech)\n",
        "        formatted = formatted[0]\n",
        "        formatted_line.append(formatted)\n",
        "\n",
        "      if i == len(s):\n",
        "        continue\n",
        "      in_formatter = 0\n",
        "      formatted_line.append(s[i])\n",
        "\n",
        "\n",
        "    else:\n",
        "\n",
        "      if in_formatter == 0 :\n",
        "        \n",
        "        speech = []\n",
        "        speech.append(s[i])  \n",
        "        in_formatter = 1   \n",
        "\n",
        "      else:  #align these lines \n",
        "        if y_tag[i] == 'B':\n",
        "          formatted = formatter (speech)\n",
        "          formatted = formatted[0]\n",
        "          formatted_line.append(formatted)\n",
        "          #print(formatted,'here')\n",
        "          speech = []\n",
        "          speech.append(s[i])  \n",
        "\n",
        "        else:\n",
        "          speech.append(s[i])\n",
        "\n",
        "  tmp= ''\n",
        "  for word in s:\n",
        "    tmp +=word+' '\n",
        "  s=tmp.strip()\n",
        "\n",
        "  print(\"{:20}\".format(\"Spoken Form:\"),s)\n",
        "  print(\"{:20}\".format(\"IOB tagger Output:\"),y_tag[:28])\n",
        "  \n",
        "  tmp= ''\n",
        "  for word in formatted_line:\n",
        "    tmp +=word+' '\n",
        "  formatted_line=tmp.strip()\n",
        "    \n",
        "  print(\"{:20}\".format(\"Formatted Form:\"),formatted_line)\n",
        "  print('\\n')\n"
      ],
      "execution_count": null,
      "outputs": []
    },
    {
      "cell_type": "markdown",
      "metadata": {
        "id": "viWF9DCm88CS"
      },
      "source": [
        "### Read a input text file and convert line by line"
      ]
    },
    {
      "cell_type": "code",
      "metadata": {
        "colab": {
          "base_uri": "https://localhost:8080/"
        },
        "id": "RXuwsTIrsUf6",
        "outputId": "93c86347-4667-4f6f-9c0f-02e8d03fa347"
      },
      "source": [
        "with open('/content/drive/My Drive/demo_sample.txt','r') as f:\n",
        "  lines = f.readlines()\n",
        "\n",
        "  \n",
        "import random\n",
        "import re\n",
        "#random.shuffle(lines)\n",
        "for line in lines:\n",
        "  line= line.strip()\n",
        "  line= re.sub('None','',line)\n",
        "  line_formatter(line)"
      ],
      "execution_count": null,
      "outputs": [
        {
          "output_type": "stream",
          "name": "stdout",
          "text": [
            "Spoken Form:         FOR THEM I'VE ADJUSTED WELL OVER TWO THOUSAND CLAIMS FOR THEM AND I KNOW YOU'VE SAID THAT\n",
            "IOB tagger Output:   ['O', 'O', 'O', 'O', 'O', 'O', 'B', 'I', 'O', 'O', 'O', 'O', 'O', 'O', 'O', 'O', 'O', 'O', 'O', 'O', 'O', 'O', 'O', 'O', 'O', 'O', 'O', 'O']\n",
            "Formatted Form:      FOR THEM I'VE ADJUSTED WELL OVER 2000 CLAIMS FOR THEM AND I KNOW YOU'VE SAID THAT\n",
            "\n",
            "\n",
            "Spoken Form:         JANUARY TWENTY FIRST TWO THOUSAND TWENTY CORRECT THAT'S WHEN I RECEIVED THE DOCUMENTS\n",
            "IOB tagger Output:   ['B', 'I', 'I', 'B', 'I', 'I', 'O', 'O', 'O', 'O', 'O', 'O', 'O', 'O', 'O', 'O', 'O', 'O', 'O', 'O', 'O', 'O', 'O', 'O', 'O', 'O', 'O', 'O']\n",
            "Formatted Form:      january 21 2002 CORRECT THAT'S WHEN I RECEIVED THE DOCUMENTS\n",
            "\n",
            "\n",
            "Spoken Form:         CAN YOU TELL ME WHAT ROOM THAT IS ONE HUNDRED FOUR LOOKS LIKE MY SON'S BEDROOM\n",
            "IOB tagger Output:   ['O', 'O', 'O', 'O', 'O', 'O', 'O', 'O', 'B', 'I', 'I', 'O', 'O', 'O', 'O', 'O', 'O', 'O', 'O', 'O', 'O', 'O', 'O', 'O', 'O', 'O', 'O', 'O']\n",
            "Formatted Form:      CAN YOU TELL ME WHAT ROOM THAT IS 104 LOOKS LIKE MY SON'S BEDROOM\n",
            "\n",
            "\n",
            "Spoken Form:         AREA ONTO THE FLAT ROOF THE FLAT ROOF WAS NOT TARPED THEY WERE NOT CLAIMING DAMAGE TO THE FLAT ROOF PICTURE FOURTEEN IS THAT THE\n",
            "IOB tagger Output:   ['O', 'O', 'O', 'O', 'O', 'O', 'O', 'O', 'O', 'O', 'O', 'O', 'O', 'O', 'O', 'O', 'O', 'O', 'O', 'O', 'O', 'B', 'O', 'O', 'O', 'O', 'O', 'O']\n",
            "Formatted Form:      AREA ONTO THE FLAT ROOF THE FLAT ROOF WAS NOT TARPED THEY WERE NOT CLAIMING DAMAGE TO THE FLAT ROOF PICTURE 14 IS THAT THE\n",
            "\n",
            "\n",
            "Spoken Form:         NOVEMBER THE THIRD TWO THOUSAND TWENTY AND THAT WAS THE LAST I'VE HEARD OF THIS UNTIL JUST RECENTLY AND IN THAT REPORT DID YOU\n",
            "IOB tagger Output:   ['O', 'O', 'I', 'I', 'I', 'I', 'O', 'O', 'O', 'O', 'O', 'O', 'O', 'O', 'O', 'O', 'O', 'O', 'O', 'O', 'O', 'O', 'O', 'O', 'O', 'O', 'O', 'O']\n",
            "Formatted Form:      NOVEMBER THE 10 002 AND THAT WAS THE LAST I'VE HEARD OF THIS UNTIL JUST RECENTLY AND IN THAT REPORT DID YOU\n",
            "\n",
            "\n",
            "Spoken Form:         WHAT IS YOUR CURRENT ADDRESS RIGHT NOW TWENTY EIGHT FIFTY SIX  SE FIFTEEN ROAD HOMESTEAD FLORIDA\n",
            "IOB tagger Output:   ['O', 'O', 'O', 'O', 'O', 'O', 'O', 'B', 'I', 'I', 'I', 'B', 'O', 'B', 'O', 'O', 'O', 'O', 'O', 'O', 'O', 'O', 'O', 'O', 'O', 'O', 'O', 'O']\n",
            "Formatted Form:      WHAT IS YOUR CURRENT ADDRESS RIGHT NOW 28  SE 15 ROAD HOMESTEAD FLORIDA\n",
            "\n",
            "\n",
            "Spoken Form:         SHE RECEIVED HER LAW DEGREE FROM THE UNIVERSITY OF SOUTHERN CALIFORNIA IN NINETEEN SIXTEEN\n",
            "IOB tagger Output:   ['O', 'O', 'O', 'O', 'O', 'O', 'O', 'O', 'O', 'O', 'O', 'O', 'B', 'I', 'O', 'O', 'O', 'O', 'O', 'O', 'O', 'O', 'O', 'O', 'O', 'O', 'O', 'O']\n",
            "Formatted Form:      SHE RECEIVED HER LAW DEGREE FROM THE UNIVERSITY OF SOUTHERN CALIFORNIA IN 1916\n",
            "\n",
            "\n",
            "Spoken Form:         THE BAND STAYED SOBER DURING THE RECORDING SESSIONS WHICH LASTED FROM THREE P M UNTIL THREE A M\n",
            "IOB tagger Output:   ['O', 'O', 'O', 'O', 'O', 'O', 'O', 'O', 'O', 'O', 'O', 'B', 'I', 'I', 'O', 'B', 'I', 'I', 'O', 'O', 'O', 'O', 'O', 'O', 'O', 'O', 'O', 'O']\n",
            "Formatted Form:      THE BAND STAYED SOBER DURING THE RECORDING SESSIONS WHICH LASTED FROM 3pm 00 p UNTIL 3 a\n",
            "\n",
            "\n",
            "Spoken Form:         MY HOME ADDRESS IS ONE HUNDRED FORTY NINE SOUTHWEST TODD AVENUE\n",
            "IOB tagger Output:   ['O', 'O', 'O', 'O', 'B', 'I', 'I', 'I', 'O', 'O', 'O', 'O', 'O', 'O', 'O', 'O', 'O', 'O', 'O', 'O', 'O', 'O', 'O', 'O', 'O', 'O', 'O', 'O']\n",
            "Formatted Form:      MY HOME ADDRESS IS 149 SOUTHWEST TODD AVENUE\n",
            "\n",
            "\n",
            "Spoken Form:         DEFENDANTS REQUIRE TO FILE A RESPONSE THE COMPLAINT ON SEPTEMBER THIRTEENTH\n",
            "IOB tagger Output:   ['O', 'O', 'O', 'O', 'O', 'O', 'O', 'O', 'O', 'B', 'I', 'O', 'O', 'O', 'O', 'O', 'O', 'O', 'O', 'O', 'O', 'O', 'O', 'O', 'O', 'O', 'O', 'O']\n",
            "Formatted Form:      DEFENDANTS REQUIRE TO FILE A RESPONSE THE COMPLAINT ON september 13\n",
            "\n",
            "\n"
          ]
        }
      ]
    }
  ]
}